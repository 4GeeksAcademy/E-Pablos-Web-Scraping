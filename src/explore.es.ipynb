{
    "cells": [
        {
            "cell_type": "markdown",
            "metadata": {},
            "source": [
                "# Explora aquí\n",
                "\n",
                "Se recomienda utilizar este cuaderno con fines de exploración."
            ]
        },
        {
            "cell_type": "code",
            "execution_count": 3,
            "metadata": {},
            "outputs": [],
            "source": [
                "import os\n",
                "from bs4 import BeautifulSoup\n",
                "import requests\n",
                "import time\n",
                "import sqlite3\n",
                "import matplotlib.pyplot as plt\n",
                "import seaborn as sns\n",
                "import io\n",
                "import pandas as pd\n",
                "from selenium import webdriver\n",
                "from selenium.webdriver.common.by import By\n",
                "from selenium.webdriver.chrome.service import Service\n",
                "from webdriver_manager.chrome import ChromeDriverManager\n",
                "\n"
            ]
        },
        {
            "cell_type": "markdown",
            "metadata": {},
            "source": [
                "Paso 2: Descargar HTML"
            ]
        },
        {
            "cell_type": "code",
            "execution_count": 4,
            "metadata": {},
            "outputs": [],
            "source": [
                "\n",
                "URL = \"https://en.wikipedia.org/wiki/List_of_Spotify_streaming_records\"\n",
                "\n",
                "response = requests.get(URL)\n"
            ]
        },
        {
            "cell_type": "markdown",
            "metadata": {},
            "source": [
                "Paso 3: Transforma el HTML"
            ]
        },
        {
            "cell_type": "code",
            "execution_count": 5,
            "metadata": {},
            "outputs": [
                {
                    "name": "stdout",
                    "output_type": "stream",
                    "text": [
                        "                   Rank                    Song  \\\n",
                        "0                     1       \"Blinding Lights\"   \n",
                        "1                     2          \"Shape of You\"   \n",
                        "2                     3               \"Starboy\"   \n",
                        "3                     4     \"Someone You Loved\"   \n",
                        "4                     5             \"As It Was\"   \n",
                        "..                  ...                     ...   \n",
                        "96                   97      \"Someone Like You\"   \n",
                        "97                   98  \"Too Good At Goodbyes\"   \n",
                        "98                   99          \"Stay with Me\"   \n",
                        "99                  100                \"Havana\"   \n",
                        "100  As of 26 June 2025      As of 26 June 2025   \n",
                        "\n",
                        "                         Artist(s)  Streams (billions)        Release date  \\\n",
                        "0                       The Weeknd               4.898    29 November 2019   \n",
                        "1                       Ed Sheeran               4.423      6 January 2017   \n",
                        "2         The Weeknd and Daft Punk               3.957   21 September 2016   \n",
                        "3                    Lewis Capaldi               3.948     8 November 2018   \n",
                        "4                     Harry Styles               3.937        1 April 2022   \n",
                        "..                             ...                 ...                 ...   \n",
                        "96                           Adele               2.329     24 January 2011   \n",
                        "97                       Sam Smith               2.326    8 September 2017   \n",
                        "98                       Sam Smith               2.317       14 April 2014   \n",
                        "99   Camila Cabello and Young Thug               2.306       3 August 2017   \n",
                        "100             As of 26 June 2025  As of 26 June 2025  As of 26 June 2025   \n",
                        "\n",
                        "                   Ref.  \n",
                        "0                   [2]  \n",
                        "1                   [3]  \n",
                        "2                   [4]  \n",
                        "3                   [5]  \n",
                        "4                   [6]  \n",
                        "..                  ...  \n",
                        "96                 [97]  \n",
                        "97                 [98]  \n",
                        "98                 [99]  \n",
                        "99                [100]  \n",
                        "100  As of 26 June 2025  \n",
                        "\n",
                        "[101 rows x 6 columns]\n",
                        "27\n"
                    ]
                }
            ],
            "source": [
                "if response.status_code == 200:\n",
                "  # print(response.text)\n",
                "  html_parseado = BeautifulSoup(response.text, \"html.parser\")\n",
                "\n",
                "html_io = io.StringIO(response.text)\n",
                "df_list = pd.read_html(html_io)\n",
                "print(df_list[0])\n",
                "print(len(df_list))\n"
            ]
        },
        {
            "cell_type": "markdown",
            "metadata": {},
            "source": [
                "Paso 4: Procesa el DataFrame"
            ]
        },
        {
            "cell_type": "code",
            "execution_count": 6,
            "metadata": {},
            "outputs": [],
            "source": [
                "#eliminar_b = df_list[0].replace(\"B\", \" \",regex= True)\n",
                "#print(eliminar_b)"
            ]
        },
        {
            "cell_type": "markdown",
            "metadata": {},
            "source": [
                "Paso 5: Almacena los datos en sqlite.\n"
            ]
        },
        {
            "cell_type": "code",
            "execution_count": 7,
            "metadata": {},
            "outputs": [],
            "source": [
                "con = sqlite3.connect(\"spotify.db\")"
            ]
        },
        {
            "cell_type": "markdown",
            "metadata": {},
            "source": [
                "Crea una instancia vacía de la base de datos e incluye en ella los datos limpios, como vimos en el módulo de bases de datos. Una vez tengas una base de datos vacía:\n",
                "\n",
                "Crea la tabla.\n",
                "Inserta los valores.\n",
                "Almacena (commit) los cambios."
            ]
        },
        {
            "cell_type": "code",
            "execution_count": 8,
            "metadata": {},
            "outputs": [],
            "source": [
                "#con = sqlite3.connect(\"spotify.db\")\n",
                "#eliminar_b.to_sql('spotify', con, if_exists='replace')"
            ]
        },
        {
            "cell_type": "code",
            "execution_count": 9,
            "metadata": {},
            "outputs": [],
            "source": [
                "#cursor = con.execute(\"SELECT * from spotify\")\n",
                "#for row in cursor: # Iterar a través de todas las filas del filtro resultante\n",
                "    #print(f\"Id = {row[0]} Rank = {row[1]} Song = {row[2]} Artist(s) = {row[3]} Streams (billions) = {row[4]} Release date = {row[5]}\")"
            ]
        },
        {
            "cell_type": "markdown",
            "metadata": {},
            "source": [
                "Visualización de datos pura, sin Matplotlib o Seaborn"
            ]
        },
        {
            "cell_type": "code",
            "execution_count": 10,
            "metadata": {},
            "outputs": [],
            "source": [
                "#Primeros 10 del ranking\n",
                "\n",
                "#print(\"Id | Rank | Song | Artist(s) | Streams (billions) | Release date\")\n",
                "\n",
                "#cursor.execute(\"SELECT * FROM spotify WHERE CAST(rank AS INTEGER) <= 10\")\n",
                "#rows = cursor.fetchall()\n",
                "#for row in rows: # Iterate through all the rows of the resulting filter\n",
                "    #print(f\"{row[0]} | {row[1]} | {row[2]} | {row[3]} | {row[4]} | {row[5]}\")\n"
            ]
        },
        {
            "cell_type": "markdown",
            "metadata": {},
            "source": [
                "Paso 6: Visualiza los datos \n",
                "\n",
                "¿Qué tipos de visualizaciones podemos realizar? Propón al menos 3 y muéstralos."
            ]
        },
        {
            "cell_type": "code",
            "execution_count": 32,
            "metadata": {},
            "outputs": [
                {
                    "data": {
                        "image/png": "[encoded data removed]",
                        "text/plain": [
                            "<Figure size 640x480 with 1 Axes>"
                        ]
                    },
                    "metadata": {},
                    "output_type": "display_data"
                }
            ],
            "source": [
                "df_list[0][\"Streams (billions)\"] = pd.to_numeric(df_list[0][\"Streams (billions)\"], errors=\"coerce\")\n",
                "\n",
                "top5 = df_list[0].nlargest(5, \"Streams (billions)\")\n",
                "sns.barplot(x=\"Streams (billions)\", y=\"Song\", data=top5)\n",
                "plt.title(\"Top 5 Songs\")\n",
                "plt.xlabel(\"Streams (billions\")\n",
                "plt.ylabel(\"Song\")\n",
                "plt.show()"
            ]
        },
        {
            "cell_type": "code",
            "execution_count": 35,
            "metadata": {},
            "outputs": [
                {
                    "data": {
                        "image/png": "[encoded data removed]",
                        "text/plain": [
                            "<Figure size 640x480 with 1 Axes>"
                        ]
                    },
                    "metadata": {},
                    "output_type": "display_data"
                }
            ],
            "source": [
                "df_list[0][\"Streams (billions)\"] = pd.to_numeric(df_list[0][\"Streams (billions)\"], errors=\"coerce\")\n",
                "\n",
                "top10 = df_list[0].nlargest(10, \"Streams (billions)\")\n",
                "sns.boxplot(x=\"Streams (billions)\", y=\"Rank\", data=top10)\n",
                "plt.title(\"Rank distribution by Streams\")\n",
                "plt.show()"
            ]
        }
    ],
    "metadata": {
        "kernelspec": {
            "display_name": "Python 3",
            "language": "python",
            "name": "python3"
        },
        "language_info": {
            "codemirror_mode": {
                "name": "ipython",
                "version": 3
            },
            "file_extension": ".py",
            "mimetype": "text/x-python",
            "name": "python",
            "nbconvert_exporter": "python",
            "pygments_lexer": "ipython3",
            "version": "3.11.4"
        },
        "orig_nbformat": 4
    },
    "nbformat": 4,
    "nbformat_minor": 2
}
